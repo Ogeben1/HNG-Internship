{
 "cells": [
  {
   "cell_type": "markdown",
   "id": "6601e08c",
   "metadata": {
    "id": "6601e08c"
   },
   "source": [
    "### IMPORTING LIBRARIES"
   ]
  },
  {
   "cell_type": "code",
   "execution_count": 130,
   "id": "38c38b11",
   "metadata": {
    "colab": {
     "base_uri": "https://localhost:8080/"
    },
    "id": "38c38b11",
    "outputId": "25d634d7-d114-4762-bb7a-1dddc3e3f47d"
   },
   "outputs": [
    {
     "name": "stdout",
     "output_type": "stream",
     "text": [
      "Requirement already satisfied: geopy in c:\\users\\admin\\anaconda3\\lib\\site-packages (2.4.1)\n",
      "Requirement already satisfied: geographiclib<3,>=1.52 in c:\\users\\admin\\anaconda3\\lib\\site-packages (from geopy) (2.0)\n",
      "Requirement already satisfied: folium in c:\\users\\admin\\anaconda3\\lib\\site-packages (0.17.0)\n",
      "Requirement already satisfied: branca>=0.6.0 in c:\\users\\admin\\anaconda3\\lib\\site-packages (from folium) (0.7.2)\n",
      "Requirement already satisfied: jinja2>=2.9 in c:\\users\\admin\\anaconda3\\lib\\site-packages (from folium) (3.1.2)\n",
      "Requirement already satisfied: numpy in c:\\users\\admin\\anaconda3\\lib\\site-packages (from folium) (1.26.2)\n",
      "Requirement already satisfied: requests in c:\\users\\admin\\anaconda3\\lib\\site-packages (from folium) (2.29.0)\n",
      "Requirement already satisfied: xyzservices in c:\\users\\admin\\anaconda3\\lib\\site-packages (from folium) (2022.9.0)\n",
      "Requirement already satisfied: MarkupSafe>=2.0 in c:\\users\\admin\\anaconda3\\lib\\site-packages (from jinja2>=2.9->folium) (2.1.1)\n",
      "Requirement already satisfied: charset-normalizer<4,>=2 in c:\\users\\admin\\anaconda3\\lib\\site-packages (from requests->folium) (2.0.4)\n",
      "Requirement already satisfied: idna<4,>=2.5 in c:\\users\\admin\\anaconda3\\lib\\site-packages (from requests->folium) (3.4)\n",
      "Requirement already satisfied: urllib3<1.27,>=1.21.1 in c:\\users\\admin\\anaconda3\\lib\\site-packages (from requests->folium) (1.26.16)\n",
      "Requirement already satisfied: certifi>=2017.4.17 in c:\\users\\admin\\anaconda3\\lib\\site-packages (from requests->folium) (2023.5.7)\n"
     ]
    }
   ],
   "source": [
    "!pip install geopy\n",
    "!pip install folium\n",
    "import pandas as pd\n",
    "import numpy as np\n",
    "import requests\n",
    "import matplotlib.pyplot as plt\n",
    "from sklearn.metrics.pairwise import haversine_distances\n",
    "from geopy.distance import geodesic\n",
    "from geopy.distance import distance\n",
    "from scipy.stats import zscore"
   ]
  },
  {
   "cell_type": "code",
   "execution_count": 131,
   "id": "-VXxTKqlgfc9",
   "metadata": {
    "colab": {
     "base_uri": "https://localhost:8080/"
    },
    "id": "-VXxTKqlgfc9",
    "outputId": "aea87b59-c664-4408-db9a-9e2af792910f"
   },
   "outputs": [],
   "source": [
    "#from google.colab import drive\n",
    "#drive.mount('/content/drive')"
   ]
  },
  {
   "cell_type": "markdown",
   "id": "1448919e",
   "metadata": {
    "id": "1448919e"
   },
   "source": [
    "### Load the main dataset and the dataset with lat/lon information"
   ]
  },
  {
   "cell_type": "code",
   "execution_count": 132,
   "id": "41024460",
   "metadata": {
    "colab": {
     "base_uri": "https://localhost:8080/"
    },
    "id": "41024460",
    "outputId": "1b6650b2-1361-4724-eabf-6aa742d80c51"
   },
   "outputs": [
    {
     "name": "stdout",
     "output_type": "stream",
     "text": [
      "     State     LGA        Ward       PU-Code              PU-Name  \\\n",
      "0  ANAMBRA  AGUATA  ACHINA   I  04-01-01-001  ST. CHARLE'S SCHOOL   \n",
      "1  ANAMBRA  AGUATA  ACHINA   I  04-01-01-005       AMANKWU SQUARE   \n",
      "2  ANAMBRA  AGUATA  ACHINA   I  04-01-01-006     COOPERATIVE HALL   \n",
      "3  ANAMBRA  AGUATA  ACHINA   I  04-01-01-008      OCHIEOBU SQUARE   \n",
      "4  ANAMBRA  AGUATA  ACHINA   I  04-01-01-010   OYE MOTOR PARK  II   \n",
      "\n",
      "   Accredited_Voters  Registered_Voters  Results_Found  Transcription_Count  \\\n",
      "0                171                630           True                   -1   \n",
      "1                153                500           True                   -1   \n",
      "2                121                386           True                   -1   \n",
      "3                134                426           True                   -1   \n",
      "4                 63                166           True                   -1   \n",
      "\n",
      "   Result_Sheet_Stamped  ...  Result_Sheet_Invalid  Result_Sheet_Unclear  \\\n",
      "0                 False  ...                 False                 False   \n",
      "1                 False  ...                 False                 False   \n",
      "2                 False  ...                 False                 False   \n",
      "3                 False  ...                 False                 False   \n",
      "4                 False  ...                 False                 False   \n",
      "\n",
      "   Result_Sheet_Unsigned APC   LP  PDP  NNPP  \\\n",
      "0                UNKNOWN   0    0    0     0   \n",
      "1                UNKNOWN   3  142    0     1   \n",
      "2                UNKNOWN   0    0    0     0   \n",
      "3                UNKNOWN   0  124    4     1   \n",
      "4                UNKNOWN   4   57    0     0   \n",
      "\n",
      "                                        Results_File  Latitude  Longitude  \n",
      "0  https://docs.inecelectionresults.net/elections...  6.008584   7.100949  \n",
      "1  https://docs.inecelectionresults.net/elections...  6.008584   7.100949  \n",
      "2  https://docs.inecelectionresults.net/elections...  6.008584   7.100949  \n",
      "3  https://docs.inecelectionresults.net/elections...  6.008584   7.100949  \n",
      "4  https://docs.inecelectionresults.net/elections...  5.965620   7.119106  \n",
      "\n",
      "[5 rows x 21 columns]\n"
     ]
    }
   ],
   "source": [
    "main_df = pd.read_csv('ANAMBRA_crosschecked.csv')\n",
    "#lat_lon_df = pd.read_csv('polling-units.csv')\n",
    "\n",
    "# Merge the datasets on the common column (Ward)\n",
    "#df = pd.merge(main_df, lat_lon_df, on='PU-Name')\n",
    "\n",
    "\n",
    "\n",
    "# check the first 5 rows of the data\n",
    "print(main_df.head(5))"
   ]
  },
  {
   "cell_type": "code",
   "execution_count": 134,
   "id": "ddacd67f",
   "metadata": {
    "colab": {
     "base_uri": "https://localhost:8080/"
    },
    "id": "ddacd67f",
    "outputId": "3be6de6b-0d00-43a8-ddf8-50493150c0ab"
   },
   "outputs": [
    {
     "name": "stdout",
     "output_type": "stream",
     "text": [
      "Latitude     3679\n",
      "Longitude    3679\n",
      "dtype: int64\n"
     ]
    }
   ],
   "source": [
    "# Check for missing values in 'latitude' and 'longitude' columns\n",
    "print(main_df[['Latitude', 'Longitude']].notnull().sum())"
   ]
  },
  {
   "cell_type": "code",
   "execution_count": 135,
   "id": "1b191343",
   "metadata": {
    "colab": {
     "base_uri": "https://localhost:8080/"
    },
    "id": "1b191343",
    "outputId": "d58fed5f-8d0f-4b45-97ff-2a51b1e2f040"
   },
   "outputs": [
    {
     "name": "stdout",
     "output_type": "stream",
     "text": [
      "DataFrame shape: (3679, 21)\n",
      "     State     LGA        Ward       PU-Code              PU-Name  \\\n",
      "0  ANAMBRA  AGUATA  ACHINA   I  04-01-01-001  ST. CHARLE'S SCHOOL   \n",
      "1  ANAMBRA  AGUATA  ACHINA   I  04-01-01-005       AMANKWU SQUARE   \n",
      "2  ANAMBRA  AGUATA  ACHINA   I  04-01-01-006     COOPERATIVE HALL   \n",
      "3  ANAMBRA  AGUATA  ACHINA   I  04-01-01-008      OCHIEOBU SQUARE   \n",
      "4  ANAMBRA  AGUATA  ACHINA   I  04-01-01-010   OYE MOTOR PARK  II   \n",
      "\n",
      "   Accredited_Voters  Registered_Voters  Results_Found  Transcription_Count  \\\n",
      "0                171                630           True                   -1   \n",
      "1                153                500           True                   -1   \n",
      "2                121                386           True                   -1   \n",
      "3                134                426           True                   -1   \n",
      "4                 63                166           True                   -1   \n",
      "\n",
      "   Result_Sheet_Stamped  ...  Result_Sheet_Invalid  Result_Sheet_Unclear  \\\n",
      "0                 False  ...                 False                 False   \n",
      "1                 False  ...                 False                 False   \n",
      "2                 False  ...                 False                 False   \n",
      "3                 False  ...                 False                 False   \n",
      "4                 False  ...                 False                 False   \n",
      "\n",
      "   Result_Sheet_Unsigned APC   LP  PDP  NNPP  \\\n",
      "0                UNKNOWN   0    0    0     0   \n",
      "1                UNKNOWN   3  142    0     1   \n",
      "2                UNKNOWN   0    0    0     0   \n",
      "3                UNKNOWN   0  124    4     1   \n",
      "4                UNKNOWN   4   57    0     0   \n",
      "\n",
      "                                        Results_File  Latitude  Longitude  \n",
      "0  https://docs.inecelectionresults.net/elections...  6.008584   7.100949  \n",
      "1  https://docs.inecelectionresults.net/elections...  6.008584   7.100949  \n",
      "2  https://docs.inecelectionresults.net/elections...  6.008584   7.100949  \n",
      "3  https://docs.inecelectionresults.net/elections...  6.008584   7.100949  \n",
      "4  https://docs.inecelectionresults.net/elections...  5.965620   7.119106  \n",
      "\n",
      "[5 rows x 21 columns]\n"
     ]
    }
   ],
   "source": [
    "# Check the merging result\n",
    "print(\"DataFrame shape:\", main_df.shape)\n",
    "print(main_df.head())"
   ]
  },
  {
   "cell_type": "markdown",
   "id": "2e09681d",
   "metadata": {
    "id": "2e09681d"
   },
   "source": [
    "### Drop NaN Values"
   ]
  },
  {
   "cell_type": "code",
   "execution_count": 136,
   "id": "dba4b8ab",
   "metadata": {
    "id": "dba4b8ab"
   },
   "outputs": [],
   "source": [
    "# Drop rows with missing values in 'latitude' and 'longitude' columns\n",
    "df = main_df.dropna(subset=['Latitude', 'Longitude'])\n",
    "\n",
    "# Ensure DataFrame is not empty after dropping missing values\n",
    "if main_df.empty:\n",
    "    raise ValueError(\"DataFrame is empty after handling missing values. Check the merging process and data integrity.\")"
   ]
  },
  {
   "cell_type": "markdown",
   "id": "60763cf6",
   "metadata": {
    "id": "60763cf6"
   },
   "source": [
    "# Convert latitudes and longitudes to radians"
   ]
  },
  {
   "cell_type": "code",
   "execution_count": 141,
   "id": "7c52c2b4",
   "metadata": {
    "id": "7c52c2b4"
   },
   "outputs": [],
   "source": [
    "Latitude_rad = np.radians(main_df['Latitude'])\n",
    "Longitude_rad = np.radians(main_df['Longitude'])"
   ]
  },
  {
   "cell_type": "code",
   "execution_count": 155,
   "id": "HJHPw8DVsSPW",
   "metadata": {
    "id": "HJHPw8DVsSPW"
   },
   "outputs": [
    {
     "name": "stdout",
     "output_type": "stream",
     "text": [
      "Distances from the fixed point to all points in miles:\n",
      "      0     1     2     3     4     5     6     7     8     9     ...  3669  \\\n",
      "0      NaN   NaN   NaN   NaN   NaN   NaN   NaN   NaN   NaN   NaN  ...   NaN   \n",
      "1      NaN   NaN   NaN   NaN   NaN   NaN   NaN   NaN   NaN   NaN  ...   NaN   \n",
      "2      NaN   NaN   NaN   NaN   NaN   NaN   NaN   NaN   NaN   NaN  ...   NaN   \n",
      "3      NaN   NaN   NaN   NaN   NaN   NaN   NaN   NaN   NaN   NaN  ...   NaN   \n",
      "4      NaN   NaN   NaN   NaN   NaN   NaN   NaN   NaN   NaN   NaN  ...   NaN   \n",
      "...    ...   ...   ...   ...   ...   ...   ...   ...   ...   ...  ...   ...   \n",
      "3674   NaN   NaN   NaN   NaN   NaN   NaN   NaN   NaN   NaN   NaN  ...   NaN   \n",
      "3675   NaN   NaN   NaN   NaN   NaN   NaN   NaN   NaN   NaN   NaN  ...   NaN   \n",
      "3676   NaN   NaN   NaN   NaN   NaN   NaN   NaN   NaN   NaN   NaN  ...   NaN   \n",
      "3677   NaN   NaN   NaN   NaN   NaN   NaN   NaN   NaN   NaN   NaN  ...   NaN   \n",
      "3678   NaN   NaN   NaN   NaN   NaN   NaN   NaN   NaN   NaN   NaN  ...   NaN   \n",
      "\n",
      "      3670  3671  3672  3673  3674  3675  3676  3677  3678  \n",
      "0      NaN   NaN   NaN   NaN   NaN   NaN   NaN   NaN   NaN  \n",
      "1      NaN   NaN   NaN   NaN   NaN   NaN   NaN   NaN   NaN  \n",
      "2      NaN   NaN   NaN   NaN   NaN   NaN   NaN   NaN   NaN  \n",
      "3      NaN   NaN   NaN   NaN   NaN   NaN   NaN   NaN   NaN  \n",
      "4      NaN   NaN   NaN   NaN   NaN   NaN   NaN   NaN   NaN  \n",
      "...    ...   ...   ...   ...   ...   ...   ...   ...   ...  \n",
      "3674   NaN   NaN   NaN   NaN   NaN   NaN   NaN   NaN   NaN  \n",
      "3675   NaN   NaN   NaN   NaN   NaN   NaN   NaN   NaN   NaN  \n",
      "3676   NaN   NaN   NaN   NaN   NaN   NaN   NaN   NaN   NaN  \n",
      "3677   NaN   NaN   NaN   NaN   NaN   NaN   NaN   NaN   NaN  \n",
      "3678   NaN   NaN   NaN   NaN   NaN   NaN   NaN   NaN   NaN  \n",
      "\n",
      "[3679 rows x 3679 columns]\n"
     ]
    }
   ],
   "source": [
    "def haversine_fixed_point(Latitude, Longitude, Latitude_rad, Longitude_rad):\n",
    "    \"\"\"\n",
    "    Calculate the great circle distance in kilometers between two points \n",
    "    on the Earth (specified in radians)\n",
    "    \"\"\"\n",
    "  \n",
    "    \n",
    "    # Radius of the Earth in kilometers\n",
    "    R = 6371.0 \n",
    "    \n",
    "\n",
    "\n",
    "# Create an empty DataFrame for distances\n",
    "# Create an empty DataFrame for distances\n",
    "distances = pd.DataFrame(index=df.index, columns=df.index)\n",
    "\n",
    "# Calculate pairwise distances and store them in the DataFrame\n",
    "dist = haversine_fixed_point(Latitude_rad, Longitude_rad,\n",
    "                     np.radians(df.loc[i, 'Longitude']), np.radians(df.loc[i, 'Latitude']))\n",
    "distances[i] = dist\n",
    "\n",
    "# Convert distances from kilometers to miles\n",
    "distances = distances.astype(float) * 0.621371\n",
    "\n",
    "# Print or use distances as needed\n",
    "print(\"Distances from the fixed point to all points in miles:\")\n",
    "print(distances)"
   ]
  },
  {
   "cell_type": "code",
   "execution_count": 157,
   "id": "pMad3Yqov1aa",
   "metadata": {
    "colab": {
     "base_uri": "https://localhost:8080/"
    },
    "id": "pMad3Yqov1aa",
    "outputId": "4615c781-c4c0-406c-faca-0e017679dbe2"
   },
   "outputs": [
    {
     "name": "stdout",
     "output_type": "stream",
     "text": [
      "\n",
      "Neighbors within 50 miles:\n",
      "       0      1      2      3      4      5      6      7      8      9     \\\n",
      "0     False  False  False  False  False  False  False  False  False  False   \n",
      "1     False  False  False  False  False  False  False  False  False  False   \n",
      "2     False  False  False  False  False  False  False  False  False  False   \n",
      "3     False  False  False  False  False  False  False  False  False  False   \n",
      "4     False  False  False  False  False  False  False  False  False  False   \n",
      "...     ...    ...    ...    ...    ...    ...    ...    ...    ...    ...   \n",
      "3674  False  False  False  False  False  False  False  False  False  False   \n",
      "3675  False  False  False  False  False  False  False  False  False  False   \n",
      "3676  False  False  False  False  False  False  False  False  False  False   \n",
      "3677  False  False  False  False  False  False  False  False  False  False   \n",
      "3678  False  False  False  False  False  False  False  False  False  False   \n",
      "\n",
      "      ...   3669   3670   3671   3672   3673   3674   3675   3676   3677  \\\n",
      "0     ...  False  False  False  False  False  False  False  False  False   \n",
      "1     ...  False  False  False  False  False  False  False  False  False   \n",
      "2     ...  False  False  False  False  False  False  False  False  False   \n",
      "3     ...  False  False  False  False  False  False  False  False  False   \n",
      "4     ...  False  False  False  False  False  False  False  False  False   \n",
      "...   ...    ...    ...    ...    ...    ...    ...    ...    ...    ...   \n",
      "3674  ...  False  False  False  False  False  False  False  False  False   \n",
      "3675  ...  False  False  False  False  False  False  False  False  False   \n",
      "3676  ...  False  False  False  False  False  False  False  False  False   \n",
      "3677  ...  False  False  False  False  False  False  False  False  False   \n",
      "3678  ...  False  False  False  False  False  False  False  False  False   \n",
      "\n",
      "       3678  \n",
      "0     False  \n",
      "1     False  \n",
      "2     False  \n",
      "3     False  \n",
      "4     False  \n",
      "...     ...  \n",
      "3674  False  \n",
      "3675  False  \n",
      "3676  False  \n",
      "3677  False  \n",
      "3678  False  \n",
      "\n",
      "[3679 rows x 3679 columns]\n"
     ]
    }
   ],
   "source": [
    "neighbors_within_50_miles = distances < 50\n",
    "print(\"\\nNeighbors within 50 miles:\")\n",
    "print(neighbors_within_50_miles)"
   ]
  },
  {
   "cell_type": "markdown",
   "id": "c9307066",
   "metadata": {
    "id": "c9307066"
   },
   "source": [
    "### Calculate pairwise distances and identify neighbors"
   ]
  },
  {
   "cell_type": "code",
   "execution_count": 159,
   "id": "fde8b353",
   "metadata": {
    "id": "fde8b353"
   },
   "outputs": [],
   "source": [
    "coords = df[['Latitude_rad', 'Longitude_rad']].values\n",
    "if coords.size == 0:\n",
    "    raise ValueError(\"Coordinates array is empty. Check your data and merging process.\")\n",
    "\n",
    "dist_matrix = haversine_distances(coords) * 6371  # Convert to kilometers\n",
    "\n",
    "# Define a radius (1 km)\n",
    "radius = 1\n",
    "\n",
    "# Identify neighbors within the radius\n",
    "neighbors = {i: np.where(dist_matrix[i] <= radius)[0] for i in range(len(df))}"
   ]
  },
  {
   "cell_type": "markdown",
   "id": "66336f2b",
   "metadata": {
    "id": "66336f2b"
   },
   "source": [
    "# Calculate outlier scores"
   ]
  },
  {
   "cell_type": "code",
   "execution_count": 160,
   "id": "3f7b546b",
   "metadata": {
    "colab": {
     "base_uri": "https://localhost:8080/"
    },
    "id": "3f7b546b",
    "outputId": "4dafa875-9d68-43d1-ee80-640ccb634390"
   },
   "outputs": [
    {
     "name": "stdout",
     "output_type": "stream",
     "text": [
      "               PU-Name party  outlier_score\n",
      "0  ST. CHARLE'S SCHOOL   APC      -0.543386\n",
      "1  ST. CHARLE'S SCHOOL    LP      -1.488709\n",
      "2  ST. CHARLE'S SCHOOL   PDP      -0.325378\n",
      "3  ST. CHARLE'S SCHOOL  NNPP      -0.509736\n",
      "4       AMANKWU SQUARE   APC       0.802052\n"
     ]
    }
   ],
   "source": [
    "def calculate_outlier_scores(neighbors, df, id_column):\n",
    "    outlier_scores = []\n",
    "    for i, neighbor_indices in neighbors.items():\n",
    "        if len(neighbor_indices) > 1:\n",
    "            for party in ['APC', 'LP', 'PDP', 'NNPP']:\n",
    "                votes = df.iloc[neighbor_indices][party].values\n",
    "                z_scores = zscore(votes)\n",
    "                outlier_scores.append({\n",
    "                    id_column: df.iloc[i][id_column],\n",
    "                    'party': party,\n",
    "                    'outlier_score': z_scores[np.where(neighbor_indices == i)[0][0]]\n",
    "                })\n",
    "    return pd.DataFrame(outlier_scores)\n",
    "\n",
    "# Determine the appropriate identifier column\n",
    "id_column = 'unit_id' if 'unit_id' in df.columns else df.columns[4]\n",
    "\n",
    "# Calculate outlier scores\n",
    "outlier_scores = calculate_outlier_scores(neighbors, df, id_column)\n",
    "print(outlier_scores.head())"
   ]
  },
  {
   "cell_type": "code",
   "execution_count": 161,
   "id": "2851069b",
   "metadata": {
    "colab": {
     "base_uri": "https://localhost:8080/"
    },
    "id": "2851069b",
    "outputId": "d14072f7-dce7-49b9-fab9-8c11909f9fbb"
   },
   "outputs": [
    {
     "name": "stdout",
     "output_type": "stream",
     "text": [
      "  PU-Name  latitude  longitude  APC   LP  PDP  NNPP  APC_outlier_score  \\\n",
      "0     PU1    6.5244     3.3792  100  200  300    50          33.333333   \n",
      "1     PU2    6.5245     3.3793  150  180  280    60          33.333333   \n",
      "2     PU3    6.5246     3.3794  120  210  290    55           6.666667   \n",
      "3     PU4    6.5247     3.3795  130  220  310    65           6.666667   \n",
      "\n",
      "   LP_outlier_score  PDP_outlier_score  NNPP_outlier_score  \n",
      "0          3.333333           6.666667           10.000000  \n",
      "1         30.000000          20.000000            3.333333  \n",
      "2         10.000000           6.666667            3.333333  \n",
      "3         23.333333          20.000000           10.000000  \n"
     ]
    }
   ],
   "source": [
    "# Define a function to calculate the outlier score\n",
    "def calculate_outlier_score(votes, neighbor_votes):\n",
    "    return abs(votes - np.mean(neighbor_votes))\n",
    "\n",
    "# Sample DataFrame\n",
    "data = {\n",
    "    'PU-Name': ['PU1', 'PU2', 'PU3', 'PU4'],\n",
    "    'latitude': [6.5244, 6.5245, 6.5246, 6.5247],\n",
    "    'longitude': [3.3792, 3.3793, 3.3794, 3.3795],\n",
    "    'APC': [100, 150, 120, 130],\n",
    "    'LP': [200, 180, 210, 220],\n",
    "    'PDP': [300, 280, 290, 310],\n",
    "    'NNPP': [50, 60, 55, 65]\n",
    "}\n",
    "df = pd.DataFrame(data)\n",
    "\n",
    "# Define a radius (in km)\n",
    "radius = 1\n",
    "\n",
    "# Initialize outlier score columns\n",
    "df['APC_outlier_score'] = 0.0\n",
    "df['LP_outlier_score'] = 0.0\n",
    "df['PDP_outlier_score'] = 0.0\n",
    "df['NNPP_outlier_score'] = 0.0\n",
    "\n",
    "# Calculate outlier scores for each polling unit\n",
    "for i, row in df.iterrows():\n",
    "    # Get the coordinates of the current polling unit\n",
    "    current_coords = (row['latitude'], row['longitude'])\n",
    "\n",
    "    # Find neighboring polling units\n",
    "    neighbors = []\n",
    "    for j, neighbor_row in df.iterrows():\n",
    "        if i != j:\n",
    "            neighbor_coords = (neighbor_row['latitude'], neighbor_row['longitude'])\n",
    "            distance = geodesic(current_coords, neighbor_coords).kilometers\n",
    "            if distance <= radius:\n",
    "                neighbors.append(neighbor_row)\n",
    "\n",
    "    if neighbors:\n",
    "        # Calculate outlier scores for each party\n",
    "        neighbors_df = pd.DataFrame(neighbors)\n",
    "        df.at[i, 'APC_outlier_score'] = calculate_outlier_score(row['APC'], neighbors_df['APC'])\n",
    "        df.at[i, 'LP_outlier_score'] = calculate_outlier_score(row['LP'], neighbors_df['LP'])\n",
    "        df.at[i, 'PDP_outlier_score'] = calculate_outlier_score(row['PDP'], neighbors_df['PDP'])\n",
    "        df.at[i, 'NNPP_outlier_score'] = calculate_outlier_score(row['NNPP'], neighbors_df['NNPP'])\n",
    "\n",
    "print(df)"
   ]
  },
  {
   "cell_type": "markdown",
   "id": "4860fb85",
   "metadata": {
    "id": "4860fb85"
   },
   "source": [
    "### Save the cleaned dataset to a CSV file"
   ]
  },
  {
   "cell_type": "code",
   "execution_count": 162,
   "id": "4c651ca6",
   "metadata": {
    "colab": {
     "base_uri": "https://localhost:8080/"
    },
    "id": "4c651ca6",
    "outputId": "a2709635-ec84-4eca-8b1d-0fb868e3a30f"
   },
   "outputs": [
    {
     "name": "stdout",
     "output_type": "stream",
     "text": [
      "Cleaned dataset saved to Ogeodobulu_anambra_outlier_scores.csv\n"
     ]
    }
   ],
   "source": [
    "cleaned_dataset_filename = 'Ogeodobulu_anambra_outlier_scores.csv'\n",
    "df.to_csv(cleaned_dataset_filename, index=False)\n",
    "\n",
    "print(f\"Cleaned dataset saved to {cleaned_dataset_filename}\")"
   ]
  },
  {
   "cell_type": "markdown",
   "id": "c8bdbc4f",
   "metadata": {
    "id": "c8bdbc4f"
   },
   "source": [
    "## Visualization"
   ]
  },
  {
   "cell_type": "code",
   "execution_count": 163,
   "id": "bbd74d31",
   "metadata": {
    "colab": {
     "base_uri": "https://localhost:8080/",
     "height": 392
    },
    "id": "bbd74d31",
    "outputId": "f389fab3-c326-4aa2-cb62-bd335b761cf8"
   },
   "outputs": [
    {
     "data": {
      "image/png": "[encoded data removed]",
      "text/plain": [
       "<Figure size 1000x600 with 1 Axes>"
      ]
     },
     "metadata": {},
     "output_type": "display_data"
    }
   ],
   "source": [
    "# Plotting the bar chart for PDP outlier scores\n",
    "plt.figure(figsize=(10, 6))\n",
    "plt.bar(df['PU-Name'], df['PDP_outlier_score'])\n",
    "plt.xticks(rotation=90)\n",
    "plt.xlabel('Polling Unit')\n",
    "plt.ylabel('Outlier Score')\n",
    "plt.title('Outlier Scores for PDP')\n",
    "plt.tight_layout()\n",
    "plt.show()\n"
   ]
  },
  {
   "cell_type": "code",
   "execution_count": 174,
   "id": "6ef39eb6",
   "metadata": {
    "colab": {
     "base_uri": "https://localhost:8080/",
     "height": 829
    },
    "id": "6ef39eb6",
    "outputId": "922df086-600f-4c6f-80f6-cce6717e0aac"
   },
   "outputs": [
    {
     "data": {
      "text/html": [
       "<div style=\"width:100%;\"><div style=\"position:relative;width:100%;height:0;padding-bottom:60%;\"><span style=\"color:#565656\">Make this Notebook Trusted to load map: File -> Trust Notebook</span><iframe srcdoc=\"&lt;!DOCTYPE html&gt;\n",
       "&lt;html&gt;\n",
       "&lt;head&gt;\n",
       "    \n",
       "    &lt;meta http-equiv=&quot;content-type&quot; content=&quot;text/html; charset=UTF-8&quot; /&gt;\n",
       "    \n",
       "        &lt;script&gt;\n",
       "            L_NO_TOUCH = false;\n",
       "            L_DISABLE_3D = false;\n",
       "        &lt;/script&gt;\n",
       "    \n",
       "    &lt;style&gt;html, body {width: 100%;height: 100%;margin: 0;padding: 0;}&lt;/style&gt;\n",
       "    &lt;style&gt;#map {position:absolute;top:0;bottom:0;right:0;left:0;}&lt;/style&gt;\n",
       "    &lt;script src=&quot;https://cdn.jsdelivr.net/npm/leaflet@1.9.3/dist/leaflet.js&quot;&gt;&lt;/script&gt;\n",
       "    &lt;script src=&quot;https://code.jquery.com/jquery-3.7.1.min.js&quot;&gt;&lt;/script&gt;\n",
       "    &lt;script src=&quot;https://cdn.jsdelivr.net/npm/bootstrap@5.2.2/dist/js/bootstrap.bundle.min.js&quot;&gt;&lt;/script&gt;\n",
       "    &lt;script src=&quot;https://cdnjs.cloudflare.com/ajax/libs/Leaflet.awesome-markers/2.0.2/leaflet.awesome-markers.js&quot;&gt;&lt;/script&gt;\n",
       "    &lt;link rel=&quot;stylesheet&quot; href=&quot;https://cdn.jsdelivr.net/npm/leaflet@1.9.3/dist/leaflet.css&quot;/&gt;\n",
       "    &lt;link rel=&quot;stylesheet&quot; href=&quot;https://cdn.jsdelivr.net/npm/bootstrap@5.2.2/dist/css/bootstrap.min.css&quot;/&gt;\n",
       "    &lt;link rel=&quot;stylesheet&quot; href=&quot;https://netdna.bootstrapcdn.com/bootstrap/3.0.0/css/bootstrap-glyphicons.css&quot;/&gt;\n",
       "    &lt;link rel=&quot;stylesheet&quot; href=&quot;https://cdn.jsdelivr.net/npm/@fortawesome/fontawesome-free@6.2.0/css/all.min.css&quot;/&gt;\n",
       "    &lt;link rel=&quot;stylesheet&quot; href=&quot;https://cdnjs.cloudflare.com/ajax/libs/Leaflet.awesome-markers/2.0.2/leaflet.awesome-markers.css&quot;/&gt;\n",
       "    &lt;link rel=&quot;stylesheet&quot; href=&quot;https://cdn.jsdelivr.net/gh/python-visualization/folium/folium/templates/leaflet.awesome.rotate.min.css&quot;/&gt;\n",
       "    \n",
       "            &lt;meta name=&quot;viewport&quot; content=&quot;width=device-width,\n",
       "                initial-scale=1.0, maximum-scale=1.0, user-scalable=no&quot; /&gt;\n",
       "            &lt;style&gt;\n",
       "                #map_d7716191878f9d92e7e427f423f71c5a {\n",
       "                    position: relative;\n",
       "                    width: 100.0%;\n",
       "                    height: 100.0%;\n",
       "                    left: 0.0%;\n",
       "                    top: 0.0%;\n",
       "                }\n",
       "                .leaflet-container { font-size: 1rem; }\n",
       "            &lt;/style&gt;\n",
       "        \n",
       "&lt;/head&gt;\n",
       "&lt;body&gt;\n",
       "    \n",
       "    \n",
       "            &lt;div class=&quot;folium-map&quot; id=&quot;map_d7716191878f9d92e7e427f423f71c5a&quot; &gt;&lt;/div&gt;\n",
       "        \n",
       "&lt;/body&gt;\n",
       "&lt;script&gt;\n",
       "    \n",
       "    \n",
       "            var map_d7716191878f9d92e7e427f423f71c5a = L.map(\n",
       "                &quot;map_d7716191878f9d92e7e427f423f71c5a&quot;,\n",
       "                {\n",
       "                    center: [6.52455, 3.37935],\n",
       "                    crs: L.CRS.EPSG3857,\n",
       "                    zoom: 12,\n",
       "                    zoomControl: true,\n",
       "                    preferCanvas: false,\n",
       "                }\n",
       "            );\n",
       "\n",
       "            \n",
       "\n",
       "        \n",
       "    \n",
       "            var tile_layer_c599314c2eeb04c2de1813987e01758d = L.tileLayer(\n",
       "                &quot;https://tile.openstreetmap.org/{z}/{x}/{y}.png&quot;,\n",
       "                {&quot;attribution&quot;: &quot;\\u0026copy; \\u003ca href=\\&quot;https://www.openstreetmap.org/copyright\\&quot;\\u003eOpenStreetMap\\u003c/a\\u003e contributors&quot;, &quot;detectRetina&quot;: false, &quot;maxNativeZoom&quot;: 19, &quot;maxZoom&quot;: 19, &quot;minZoom&quot;: 0, &quot;noWrap&quot;: false, &quot;opacity&quot;: 1, &quot;subdomains&quot;: &quot;abc&quot;, &quot;tms&quot;: false}\n",
       "            );\n",
       "        \n",
       "    \n",
       "            tile_layer_c599314c2eeb04c2de1813987e01758d.addTo(map_d7716191878f9d92e7e427f423f71c5a);\n",
       "        \n",
       "    \n",
       "            var marker_ef66bbbbf7bd51d71ddf17f9a7d9da74 = L.marker(\n",
       "                [6.5244, 3.3792],\n",
       "                {}\n",
       "            ).addTo(map_d7716191878f9d92e7e427f423f71c5a);\n",
       "        \n",
       "    \n",
       "        var popup_b58078cbffac35b35f63c7078da29fac = L.popup({&quot;maxWidth&quot;: &quot;100%&quot;});\n",
       "\n",
       "        \n",
       "            \n",
       "                var html_e1dd2db0fd228e1c20151934722d010e = $(`&lt;div id=&quot;html_e1dd2db0fd228e1c20151934722d010e&quot; style=&quot;width: 100.0%; height: 100.0%;&quot;&gt;Polling Unit: PU1 APC Outlier Score: 33.33333333333334 LP Outlier Score: 3.333333333333343 PDP Outlier Score: 6.666666666666686 NNPP Outlier Score: 10.0&lt;/div&gt;`)[0];\n",
       "                popup_b58078cbffac35b35f63c7078da29fac.setContent(html_e1dd2db0fd228e1c20151934722d010e);\n",
       "            \n",
       "        \n",
       "\n",
       "        marker_ef66bbbbf7bd51d71ddf17f9a7d9da74.bindPopup(popup_b58078cbffac35b35f63c7078da29fac)\n",
       "        ;\n",
       "\n",
       "        \n",
       "    \n",
       "    \n",
       "            var marker_d55e559bf734cc5f7803ae25fda68b78 = L.marker(\n",
       "                [6.5245, 3.3793],\n",
       "                {}\n",
       "            ).addTo(map_d7716191878f9d92e7e427f423f71c5a);\n",
       "        \n",
       "    \n",
       "        var popup_d115d9df2fd00411519861649710469a = L.popup({&quot;maxWidth&quot;: &quot;100%&quot;});\n",
       "\n",
       "        \n",
       "            \n",
       "                var html_5192e272076bdc90389d7d2368b3aa33 = $(`&lt;div id=&quot;html_5192e272076bdc90389d7d2368b3aa33&quot; style=&quot;width: 100.0%; height: 100.0%;&quot;&gt;Polling Unit: PU2 APC Outlier Score: 33.33333333333333 LP Outlier Score: 30.0 PDP Outlier Score: 20.0 NNPP Outlier Score: 3.3333333333333357&lt;/div&gt;`)[0];\n",
       "                popup_d115d9df2fd00411519861649710469a.setContent(html_5192e272076bdc90389d7d2368b3aa33);\n",
       "            \n",
       "        \n",
       "\n",
       "        marker_d55e559bf734cc5f7803ae25fda68b78.bindPopup(popup_d115d9df2fd00411519861649710469a)\n",
       "        ;\n",
       "\n",
       "        \n",
       "    \n",
       "    \n",
       "            var marker_52f8e9be0f7cb60d992a428b5dbe54e1 = L.marker(\n",
       "                [6.5246, 3.3794],\n",
       "                {}\n",
       "            ).addTo(map_d7716191878f9d92e7e427f423f71c5a);\n",
       "        \n",
       "    \n",
       "        var popup_b306e24dea411a6c82e74d100a1a02fc = L.popup({&quot;maxWidth&quot;: &quot;100%&quot;});\n",
       "\n",
       "        \n",
       "            \n",
       "                var html_979838436cf1a39d53a3a4179f87fbca = $(`&lt;div id=&quot;html_979838436cf1a39d53a3a4179f87fbca&quot; style=&quot;width: 100.0%; height: 100.0%;&quot;&gt;Polling Unit: PU3 APC Outlier Score: 6.666666666666671 LP Outlier Score: 10.0 PDP Outlier Score: 6.666666666666686 NNPP Outlier Score: 3.3333333333333357&lt;/div&gt;`)[0];\n",
       "                popup_b306e24dea411a6c82e74d100a1a02fc.setContent(html_979838436cf1a39d53a3a4179f87fbca);\n",
       "            \n",
       "        \n",
       "\n",
       "        marker_52f8e9be0f7cb60d992a428b5dbe54e1.bindPopup(popup_b306e24dea411a6c82e74d100a1a02fc)\n",
       "        ;\n",
       "\n",
       "        \n",
       "    \n",
       "    \n",
       "            var marker_016569e03aff8fb707840a3a4e2ead20 = L.marker(\n",
       "                [6.5247, 3.3795],\n",
       "                {}\n",
       "            ).addTo(map_d7716191878f9d92e7e427f423f71c5a);\n",
       "        \n",
       "    \n",
       "        var popup_8d6ca004b3214c2c67f551cd9e4a0550 = L.popup({&quot;maxWidth&quot;: &quot;100%&quot;});\n",
       "\n",
       "        \n",
       "            \n",
       "                var html_8a1d99eafda5048699d0958e33141c76 = $(`&lt;div id=&quot;html_8a1d99eafda5048699d0958e33141c76&quot; style=&quot;width: 100.0%; height: 100.0%;&quot;&gt;Polling Unit: PU4 APC Outlier Score: 6.666666666666671 LP Outlier Score: 23.333333333333343 PDP Outlier Score: 20.0 NNPP Outlier Score: 10.0&lt;/div&gt;`)[0];\n",
       "                popup_8d6ca004b3214c2c67f551cd9e4a0550.setContent(html_8a1d99eafda5048699d0958e33141c76);\n",
       "            \n",
       "        \n",
       "\n",
       "        marker_016569e03aff8fb707840a3a4e2ead20.bindPopup(popup_8d6ca004b3214c2c67f551cd9e4a0550)\n",
       "        ;\n",
       "\n",
       "        \n",
       "    \n",
       "    \n",
       "            tile_layer_c599314c2eeb04c2de1813987e01758d.addTo(map_d7716191878f9d92e7e427f423f71c5a);\n",
       "        \n",
       "&lt;/script&gt;\n",
       "&lt;/html&gt;\" style=\"position:absolute;width:100%;height:100%;left:0;top:0;border:none !important;\" allowfullscreen webkitallowfullscreen mozallowfullscreen></iframe></div></div>"
      ],
      "text/plain": [
       "<folium.folium.Map at 0x2e004987290>"
      ]
     },
     "execution_count": 174,
     "metadata": {},
     "output_type": "execute_result"
    },
    {
     "data": {
      "image/png": "[encoded data removed]",
      "text/plain": [
       "<Figure size 640x480 with 1 Axes>"
      ]
     },
     "metadata": {},
     "output_type": "display_data"
    }
   ],
   "source": [
    "import folium\n",
    "\n",
    "# Create a folium map to visualize polling units\n",
    "m = folium.Map(location=[df['latitude'].mean(), df['longitude'].mean()], zoom_start=12)\n",
    "\n",
    "\n",
    "# Add markers for each polling unit\n",
    "for index, row in df.iterrows():\n",
    "    folium.Marker(\n",
    "        location=[row['latitude'], row['longitude']],\n",
    "        popup=f\"Polling Unit: {row['PU-Name']}\\nAPC Outlier Score: {row['APC_outlier_score']}\\nLP Outlier Score: {row['LP_outlier_score']}\\nPDP Outlier Score: {row['PDP_outlier_score']}\\nNNPP Outlier Score: {row['NNPP_outlier_score']}\"\n",
    "    ).add_to(m)\n",
    "plt.title('Folium map visualizing polling units in Anambra State')\n",
    "# Save the map as an HTML file\n",
    "m.save('polling_units_map.html')\n",
    "\n",
    "# Display the map (this will work in Jupyter notebooks)\n",
    "m"
   ]
  },
  {
   "cell_type": "code",
   "execution_count": 175,
   "id": "db11b5a5",
   "metadata": {
    "id": "db11b5a5"
   },
   "outputs": [],
   "source": [
    "# Save the map as an HTML file\n",
    "m.save('polling_units_map.html')"
   ]
  },
  {
   "cell_type": "markdown",
   "id": "caccc1f2",
   "metadata": {
    "id": "caccc1f2"
   },
   "source": [
    "# Sort the dataset by outlier scores"
   ]
  },
  {
   "cell_type": "code",
   "execution_count": 176,
   "id": "0d638e90",
   "metadata": {
    "colab": {
     "base_uri": "https://localhost:8080/"
    },
    "id": "0d638e90",
    "outputId": "0d06dd8c-d3f1-4266-c694-473fa7dac5ea"
   },
   "outputs": [
    {
     "name": "stdout",
     "output_type": "stream",
     "text": [
      "                              PU-Name party  outlier_score\n",
      "1178                      AMA-OKPOGBA   PDP      12.839118\n",
      "9662              MODEBE MEMO P/S III   PDP      12.635357\n",
      "11232                   UMUNEBO P/S I   APC      12.000627\n",
      "7327                  UMUEZEAGU P/S I  NNPP      11.561981\n",
      "13667  URBAN BOYS SECONDARY SCHOOL  I  NNPP      11.335126\n"
     ]
    }
   ],
   "source": [
    "sorted_outliers = outlier_scores.sort_values(by='outlier_score', ascending=False)\n",
    "sorted_outliers.to_csv('sorted_outlier_scores.csv', index=False)\n",
    "print(sorted_outliers.head())"
   ]
  },
  {
   "cell_type": "markdown",
   "id": "34a5f1e0",
   "metadata": {
    "id": "34a5f1e0"
   },
   "source": [
    "# Identify top 3 outliers for each party"
   ]
  },
  {
   "cell_type": "code",
   "execution_count": 177,
   "id": "5905c596",
   "metadata": {
    "colab": {
     "base_uri": "https://localhost:8080/"
    },
    "id": "5905c596",
    "outputId": "116fdb3a-b063-4c68-fd36-8b692c21ee80"
   },
   "outputs": [
    {
     "name": "stdout",
     "output_type": "stream",
     "text": [
      "                              PU-Name party  outlier_score\n",
      "1178                      AMA-OKPOGBA   PDP      12.839118\n",
      "9662              MODEBE MEMO P/S III   PDP      12.635357\n",
      "11232                   UMUNEBO P/S I   APC      12.000627\n",
      "7327                  UMUEZEAGU P/S I  NNPP      11.561981\n",
      "13667  URBAN BOYS SECONDARY SCHOOL  I  NNPP      11.335126\n",
      "2903         COMMUNITY PRY. SCHOOL II  NNPP      11.192704\n",
      "10078             OKAA AGBILIGBA HALL   PDP      11.176221\n",
      "3872            NKWO AMENYI SQUARE II   APC      10.661366\n",
      "10124                   EZENDU SQUARE   APC      10.320459\n",
      "1177                      AMA-OKPOGBA    LP       6.340112\n",
      "1169                     AMA-ENUGU II    LP       6.104308\n",
      "4097                   G.T.C COMPOUND    LP       4.916632\n"
     ]
    }
   ],
   "source": [
    "top_outliers = sorted_outliers.groupby('party').head(3)\n",
    "print(top_outliers)"
   ]
  },
  {
   "cell_type": "code",
   "execution_count": 178,
   "id": "5e337b70",
   "metadata": {
    "colab": {
     "base_uri": "https://localhost:8080/"
    },
    "id": "5e337b70",
    "outputId": "3e124b84-dcd0-4f0f-d7d9-387ff9367d4f"
   },
   "outputs": [
    {
     "name": "stdout",
     "output_type": "stream",
     "text": [
      "Unit AMA-OKPOGBA is an outlier for PDP with an outlier score of 12.839117745291805.\n",
      "Unit MODEBE MEMO P/S III is an outlier for PDP with an outlier score of 12.635356713952119.\n",
      "Unit UMUNEBO P/S I is an outlier for APC with an outlier score of 12.000627263241743.\n",
      "Unit UMUEZEAGU P/S I is an outlier for NNPP with an outlier score of 11.56198143144458.\n",
      "Unit URBAN BOYS SECONDARY SCHOOL  I is an outlier for NNPP with an outlier score of 11.335125970441581.\n",
      "Unit COMMUNITY PRY. SCHOOL II is an outlier for NNPP with an outlier score of 11.192703643249285.\n",
      "Unit OKAA AGBILIGBA HALL is an outlier for PDP with an outlier score of 11.176221160080914.\n",
      "Unit NKWO AMENYI SQUARE II is an outlier for APC with an outlier score of 10.661366499754704.\n",
      "Unit EZENDU SQUARE is an outlier for APC with an outlier score of 10.3204594420091.\n",
      "Unit AMA-OKPOGBA is an outlier for LP with an outlier score of 6.340112420528137.\n",
      "Unit AMA-ENUGU II is an outlier for LP with an outlier score of 6.104308343088281.\n",
      "Unit G.T.C COMPOUND is an outlier for LP with an outlier score of 4.916632013882595.\n"
     ]
    }
   ],
   "source": [
    "# Explain why they are outliers\n",
    "for index, row in top_outliers.iterrows():\n",
    "    identifier = row[id_column]\n",
    "    party = row['party']\n",
    "    score = row['outlier_score']\n",
    "    print(f\"Unit {identifier} is an outlier for {party} with an outlier score of {score}.\")"
   ]
  },
  {
   "cell_type": "code",
   "execution_count": 179,
   "id": "4210ca9b",
   "metadata": {
    "id": "4210ca9b"
   },
   "outputs": [],
   "source": [
    "# Save sorted outlier scores to a CSV file\n",
    "sorted_outliers.to_csv('sorted_outlier_scores.csv', index=False)"
   ]
  },
  {
   "cell_type": "code",
   "execution_count": 180,
   "id": "11aea7d3",
   "metadata": {
    "id": "11aea7d3"
   },
   "outputs": [],
   "source": [
    "# Identify top 3 outliers for each party\n",
    "top_outliers = sorted_outliers.groupby('party').head(3)\n",
    "\n",
    "# Save top outliers to a CSV file\n",
    "top_outliers.to_csv('top_outliers.csv', index=False)"
   ]
  },
  {
   "cell_type": "code",
   "execution_count": 181,
   "id": "303306fe",
   "metadata": {
    "id": "303306fe"
   },
   "outputs": [],
   "source": [
    "# Save the full dataset with calculated columns\n",
    "df.to_csv('full_dataset_with_calculations.csv', index=False)"
   ]
  },
  {
   "cell_type": "code",
   "execution_count": 182,
   "id": "5ca45caa",
   "metadata": {
    "colab": {
     "base_uri": "https://localhost:8080/"
    },
    "id": "5ca45caa",
    "outputId": "158a040d-d844-48a0-8845-d59c4b33fc7a"
   },
   "outputs": [
    {
     "name": "stdout",
     "output_type": "stream",
     "text": [
      "Sorted outlier scores saved to 'sorted_outlier_scores.csv'\n",
      "Top 3 outliers for each party saved to 'top_outliers.csv'\n",
      "Full dataset with calculations saved to 'full_dataset_with_calculations.csv'\n"
     ]
    }
   ],
   "source": [
    "# Print statements to confirm saving\n",
    "print(\"Sorted outlier scores saved to 'sorted_outlier_scores.csv'\")\n",
    "print(\"Top 3 outliers for each party saved to 'top_outliers.csv'\")\n",
    "print(\"Full dataset with calculations saved to 'full_dataset_with_calculations.csv'\")"
   ]
  }
 ],
 "metadata": {
  "colab": {
   "provenance": []
  },
  "kernelspec": {
   "display_name": "Python 3 (ipykernel)",
   "language": "python",
   "name": "python3"
  },
  "language_info": {
   "codemirror_mode": {
    "name": "ipython",
    "version": 3
   },
   "file_extension": ".py",
   "mimetype": "text/x-python",
   "name": "python",
   "nbconvert_exporter": "python",
   "pygments_lexer": "ipython3",
   "version": "3.11.3"
  }
 },
 "nbformat": 4,
 "nbformat_minor": 5
}
